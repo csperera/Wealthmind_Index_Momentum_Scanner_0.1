{
  "nbformat": 4,
  "nbformat_minor": 0,
  "metadata": {
    "colab": {
      "provenance": []
    },
    "kernelspec": {
      "name": "python3",
      "display_name": "Python 3"
    },
    "language_info": {
      "name": "python"
    }
  },
  "cells": [
    {
      "cell_type": "code",
      "source": [
        "import yfinance as yf\n",
        "import pandas as pd\n",
        "import time\n",
        "\n",
        "def get_top_momentum_indices():\n",
        "    # List of global indices (expand as needed)\n",
        "    indices = {\n",
        "        '^GSPC': 'S&P 500', '^DJI': 'Dow Jones', '^IXIC': 'Nasdaq',\n",
        "        '^FTSE': 'FTSE 100', '^N225': 'Nikkei 225', '^GDAXI': 'DAX',\n",
        "        '^FCHI': 'CAC 40', '^AORD': 'ASX 200', '^BSESN': 'Sensex',\n",
        "        '^KS11': 'KOSPI', '^STI': 'Straits Times', '^MXX': 'IPC Mexico'\n",
        "    }\n",
        "\n",
        "    # Dictionary to store momentum\n",
        "    momentum_data = {}\n",
        "\n",
        "    # Fetch data and calculate 6-month momentum (126 trading days)\n",
        "    for ticker, name in indices.items():\n",
        "        try:\n",
        "            data = yf.download(ticker, period='1y', interval='1d', auto_adjust=False)\n",
        "            if len(data) < 126:  # Ensure at least 126 days of data\n",
        "                print(f\"Insufficient data for {name} ({ticker}): {len(data)} days\")\n",
        "                continue\n",
        "            # Work with 'Close' Series and drop NaNs\n",
        "            close_data = data['Close'].dropna()\n",
        "            if len(close_data) < 126:  # Recheck after dropping NaNs\n",
        "                print(f\"Insufficient valid data for {name} ({ticker}): {len(close_data)} days\")\n",
        "                continue\n",
        "            momentum_series = close_data.pct_change(periods=126)\n",
        "            momentum = momentum_series.iloc[-1].item()  # Force scalar conversion\n",
        "            print(f\"Debug - {name} momentum type: {type(momentum)}, value: {momentum}\")  # Debug\n",
        "            if not pd.isna(momentum):  # Check scalar NaN\n",
        "                momentum_data[name] = momentum * 100  # Convert to percentage\n",
        "            time.sleep(1)  # Avoid rate limits\n",
        "        except Exception as e:\n",
        "            print(f\"Error fetching {name} ({ticker}): {e}\")\n",
        "\n",
        "    # Sort and get top 10\n",
        "    top_10 = sorted(momentum_data.items(), key=lambda x: x[1], reverse=True)[:10]\n",
        "\n",
        "    return top_10\n",
        "\n",
        "if __name__ == \"__main__\":\n",
        "    # Example usage\n",
        "    results = get_top_momentum_indices()\n",
        "    for name, momentum in results:\n",
        "        print(f\"{name}: {momentum:.2f}%\")"
      ],
      "metadata": {
        "colab": {
          "base_uri": "https://localhost:8080/"
        },
        "id": "svhVHTU35kcT",
        "outputId": "65fe7cdd-7823-4a67-d049-d4d589e164ef"
      },
      "execution_count": 6,
      "outputs": [
        {
          "output_type": "stream",
          "name": "stderr",
          "text": [
            "\r[*********************100%***********************]  1 of 1 completed\n"
          ]
        },
        {
          "output_type": "stream",
          "name": "stdout",
          "text": [
            "Debug - S&P 500 momentum type: <class 'float'>, value: 0.17684781134439986\n"
          ]
        },
        {
          "output_type": "stream",
          "name": "stderr",
          "text": [
            "\r[*********************100%***********************]  1 of 1 completed\n"
          ]
        },
        {
          "output_type": "stream",
          "name": "stdout",
          "text": [
            "Debug - Dow Jones momentum type: <class 'float'>, value: 0.10397148989064298\n"
          ]
        },
        {
          "output_type": "stream",
          "name": "stderr",
          "text": [
            "\r[*********************100%***********************]  1 of 1 completed\n"
          ]
        },
        {
          "output_type": "stream",
          "name": "stdout",
          "text": [
            "Debug - Nasdaq momentum type: <class 'float'>, value: 0.2792193519291817\n"
          ]
        },
        {
          "output_type": "stream",
          "name": "stderr",
          "text": [
            "\r[*********************100%***********************]  1 of 1 completed\n"
          ]
        },
        {
          "output_type": "stream",
          "name": "stdout",
          "text": [
            "Debug - FTSE 100 momentum type: <class 'float'>, value: 0.059143865993449785\n"
          ]
        },
        {
          "output_type": "stream",
          "name": "stderr",
          "text": [
            "\r[*********************100%***********************]  1 of 1 completed\n"
          ]
        },
        {
          "output_type": "stream",
          "name": "stdout",
          "text": [
            "Debug - Nikkei 225 momentum type: <class 'float'>, value: 0.19025780033664907\n"
          ]
        },
        {
          "output_type": "stream",
          "name": "stderr",
          "text": [
            "\r[*********************100%***********************]  1 of 1 completed\n"
          ]
        },
        {
          "output_type": "stream",
          "name": "stdout",
          "text": [
            "Debug - DAX momentum type: <class 'float'>, value: 0.034427064272639196\n"
          ]
        },
        {
          "output_type": "stream",
          "name": "stderr",
          "text": [
            "\r[*********************100%***********************]  1 of 1 completed\n"
          ]
        },
        {
          "output_type": "stream",
          "name": "stdout",
          "text": [
            "Debug - CAC 40 momentum type: <class 'float'>, value: -0.021033818445729935\n"
          ]
        },
        {
          "output_type": "stream",
          "name": "stderr",
          "text": [
            "\r[*********************100%***********************]  1 of 1 completed\n"
          ]
        },
        {
          "output_type": "stream",
          "name": "stdout",
          "text": [
            "Debug - ASX 200 momentum type: <class 'float'>, value: 0.11061811053169013\n"
          ]
        },
        {
          "output_type": "stream",
          "name": "stderr",
          "text": [
            "\r[*********************100%***********************]  1 of 1 completed\n"
          ]
        },
        {
          "output_type": "stream",
          "name": "stdout",
          "text": [
            "Debug - Sensex momentum type: <class 'float'>, value: 0.09727551654235533\n"
          ]
        },
        {
          "output_type": "stream",
          "name": "stderr",
          "text": [
            "\r[*********************100%***********************]  1 of 1 completed\n"
          ]
        },
        {
          "output_type": "stream",
          "name": "stdout",
          "text": [
            "Debug - KOSPI momentum type: <class 'float'>, value: 0.31066484948027395\n"
          ]
        },
        {
          "output_type": "stream",
          "name": "stderr",
          "text": [
            "\r[*********************100%***********************]  1 of 1 completed\n"
          ]
        },
        {
          "output_type": "stream",
          "name": "stdout",
          "text": [
            "Debug - Straits Times momentum type: <class 'float'>, value: 0.09582702299651813\n"
          ]
        },
        {
          "output_type": "stream",
          "name": "stderr",
          "text": [
            "\r[*********************100%***********************]  1 of 1 completed\n"
          ]
        },
        {
          "output_type": "stream",
          "name": "stdout",
          "text": [
            "Debug - IPC Mexico momentum type: <class 'float'>, value: 0.1619034658495091\n",
            "KOSPI: 31.07%\n",
            "Nasdaq: 27.92%\n",
            "Nikkei 225: 19.03%\n",
            "S&P 500: 17.68%\n",
            "IPC Mexico: 16.19%\n",
            "ASX 200: 11.06%\n",
            "Dow Jones: 10.40%\n",
            "Sensex: 9.73%\n",
            "Straits Times: 9.58%\n",
            "FTSE 100: 5.91%\n"
          ]
        }
      ]
    }
  ]
}